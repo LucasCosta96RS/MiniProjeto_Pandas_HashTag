{
 "cells": [
  {
   "cell_type": "code",
   "execution_count": 8,
   "outputs": [
    {
     "name": "stdout",
     "output_type": "stream",
     "text": [
      "     ID Funcionário Estado Civil           Nome Completo  Salario Base  Impostos  Beneficios   VT      VR       Cargo            Area\n",
      "0                 1            C        Gabriel Mesquita         21910   10955.0      4382.0  242  719.04     Diretor       Operações\n",
      "1                 2            C             João Haddad          5404    2702.0      1080.8  154  574.56  Estagiário       Logística\n",
      "2                 3            C  Amanda Marques Ribeiro         16066    8033.0      3213.2  154  729.12  Estagiário  Administrativo\n",
      "3                 4            C         Guilherme Nunez         21305   10652.5      4261.0  220  524.16    Analista  Administrativo\n",
      "4                 5            C           Adelino Gomes          5098    2549.0      1019.6  176  725.76    Analista  Administrativo\n",
      "..              ...          ...                     ...           ...       ...         ...  ...     ...         ...             ...\n",
      "109             143            C   Renan Scharnhorst Ott         10793    5396.5      2158.6  242  514.08    Analista       Logística\n",
      "110             144            S      Lucas Brum Pereira          4048    2024.0       809.6  198  796.32  Estagiário       Comercial\n",
      "111             148            S            Caio Stellet         24596   12298.0      4919.2  242  561.12    Analista  Administrativo\n",
      "112             149            C          Fernanda Rocha          5078    2539.0      1015.6  308  665.28  Estagiário       Comercial\n",
      "113             150            C            Eduardo Brum         15939    7969.5      3187.8  220  769.44    Analista       Comercial\n",
      "\n",
      "[114 rows x 10 columns]\n",
      "     ID Cliente             Cliente  Valor Contrato Mensal\n",
      "0             1  Teixeira Gonçalves                    540\n",
      "1             2        Souza Santos                   1260\n",
      "2             3        Emídio Alves                   3195\n",
      "3             4        Santos Costa                   2520\n",
      "4             5         Do Monteiro                   3510\n",
      "..          ...                 ...                    ...\n",
      "315         316        Manoel Costa                   3690\n",
      "316         317       Gomes Machado                   2385\n",
      "317         318    Alkindar Cardozo                   3510\n",
      "318         319     Pereira Fazenda                   4185\n",
      "319         320   Americo Damasceno                   2430\n",
      "\n",
      "[320 rows x 3 columns]\n",
      "    Codigo do Servico  ID Funcionário  ID Cliente  Tempo Total de Contrato (Meses)\n",
      "0              OS0001              67           1                               14\n",
      "1              OS0002              17           2                               12\n",
      "2              OS0003             116           4                               14\n",
      "3              OS0004              37           5                                8\n",
      "4              OS0005             130           6                                8\n",
      "..                ...             ...         ...                              ...\n",
      "232            OS0233             111         315                                4\n",
      "233            OS0234             124         316                                8\n",
      "234            OS0235              72         317                                6\n",
      "235            OS0236              90         319                               14\n",
      "236            OS0237              22         320                               12\n",
      "\n",
      "[237 rows x 4 columns]\n"
     ]
    }
   ],
   "source": [
    "import pandas as pd\n",
    "import numpy as np\n",
    "\n",
    "desired_width = 320\n",
    "pd.set_option('display.width', desired_width)\n",
    "np.set_printoptions(linewidth=desired_width)\n",
    "pd.set_option('display.max_columns', 20)\n",
    "\n",
    "funcionarios_df = pd.read_csv('CadastroFuncionarios.csv', sep=';', decimal=',')\n",
    "clientes_df = pd.read_csv('CadastroClientes.csv', sep=';')\n",
    "servicos_df = pd.read_excel('BaseServiçosPrestados.xlsx')\n",
    "\n",
    "print(funcionarios_df)\n",
    "print(clientes_df)\n",
    "print(servicos_df)"
   ],
   "metadata": {
    "collapsed": false,
    "pycharm": {
     "name": "#%%\n"
    }
   }
  },
  {
   "cell_type": "code",
   "execution_count": 9,
   "outputs": [
    {
     "name": "stdout",
     "output_type": "stream",
     "text": [
      "O total da folha salarial é de: 2,717,493.22\n",
      "\n"
     ]
    }
   ],
   "source": [
    "funcionarios_df = funcionarios_df.drop(['Estado Civil', 'Cargo'], axis=1)\n",
    "funcionarios_df['Salario Total'] = funcionarios_df['Salario Base'] + funcionarios_df['Impostos'] + funcionarios_df['Beneficios'] + funcionarios_df['VT'] + funcionarios_df['VR']\n",
    "print('O total da folha salarial é de: {:,}\\n'.format(funcionarios_df['Salario Total'].sum()))"
   ],
   "metadata": {
    "collapsed": false,
    "pycharm": {
     "name": "#%% Folha Salarial\n"
    }
   }
  },
  {
   "cell_type": "code",
   "execution_count": 10,
   "outputs": [
    {
     "name": "stdout",
     "output_type": "stream",
     "text": [
      "O faturamento da empresa foi de: 5,519,160\n",
      "\n"
     ]
    }
   ],
   "source": [
    "faturamentos_df = servicos_df[['ID Cliente', 'Tempo Total de Contrato (Meses)']].merge(clientes_df[['ID Cliente', 'Valor Contrato Mensal']],on='ID Cliente')\n",
    "faturamentos_df['Faturamento Total'] = faturamentos_df['Tempo Total de Contrato (Meses)'] * faturamentos_df['Valor Contrato Mensal']\n",
    "print('O faturamento da empresa foi de: {:,}\\n'.format(faturamentos_df['Faturamento Total'].sum()))"
   ],
   "metadata": {
    "collapsed": false,
    "pycharm": {
     "name": "#%% Faturamento da empresa\n"
    }
   }
  },
  {
   "cell_type": "code",
   "execution_count": 11,
   "outputs": [
    {
     "name": "stdout",
     "output_type": "stream",
     "text": [
      "Percentual de funcionários que fecharam contrato 86.8%\n",
      "\n"
     ]
    }
   ],
   "source": [
    "qtda_func_fecharam = len(servicos_df['ID Funcionário'].unique())\n",
    "qtda_func_total = len(funcionarios_df['ID Funcionário'])\n",
    "print('Percentual de funcionários que fecharam contrato {:.1%}\\n'.format(qtda_func_fecharam / qtda_func_total))"
   ],
   "metadata": {
    "collapsed": false,
    "pycharm": {
     "name": "#%% % de fechamento de contratos\n"
    }
   }
  },
  {
   "cell_type": "code",
   "execution_count": 12,
   "outputs": [
    {
     "name": "stdout",
     "output_type": "stream",
     "text": [
      "Gráfico de contratos por área: \n"
     ]
    },
    {
     "data": {
      "text/plain": "<AxesSubplot:>"
     },
     "execution_count": 12,
     "metadata": {},
     "output_type": "execute_result"
    },
    {
     "data": {
      "text/plain": "<Figure size 432x288 with 1 Axes>",
      "image/png": "[encoded data removed]"
     },
     "metadata": {
      "needs_background": "light"
     },
     "output_type": "display_data"
    }
   ],
   "source": [
    "contratos_area_df = servicos_df[['ID Funcionário']].merge(funcionarios_df[['ID Funcionário', 'Area']], on='ID Funcionário')\n",
    "print('Gráfico de contratos por área: ')\n",
    "contratos_area_df['Area'].value_counts().plot(kind='bar')"
   ],
   "metadata": {
    "collapsed": false,
    "pycharm": {
     "name": "#%% Quantidade de contratos por área\n"
    }
   }
  },
  {
   "cell_type": "code",
   "execution_count": 13,
   "outputs": [
    {
     "name": "stdout",
     "output_type": "stream",
     "text": [
      "Gráfico de funcionários por área: \n"
     ]
    },
    {
     "data": {
      "text/plain": "<AxesSubplot:>"
     },
     "execution_count": 13,
     "metadata": {},
     "output_type": "execute_result"
    },
    {
     "data": {
      "text/plain": "<Figure size 432x288 with 1 Axes>",
      "image/png": "[encoded data removed]"
     },
     "metadata": {
      "needs_background": "light"
     },
     "output_type": "display_data"
    }
   ],
   "source": [
    "funcionarios_area = funcionarios_df[['ID Funcionário', 'Area']]\n",
    "print('Gráfico de funcionários por área: ')\n",
    "funcionarios_area['Area'].value_counts().plot(kind='bar')"
   ],
   "metadata": {
    "collapsed": false,
    "pycharm": {
     "name": "#%% Funcionários por Área\n"
    }
   }
  },
  {
   "cell_type": "code",
   "execution_count": 14,
   "outputs": [
    {
     "name": "stdout",
     "output_type": "stream",
     "text": [
      "O Ticket médio da empresa é : R$2,502.56\n"
     ]
    }
   ],
   "source": [
    "print('O Ticket médio da empresa é : R${:,.2f}'.format(clientes_df['Valor Contrato Mensal'].mean()))"
   ],
   "metadata": {
    "collapsed": false,
    "pycharm": {
     "name": "#%% Ticket Médio Mensal\n"
    }
   }
  }
 ],
 "metadata": {
  "kernelspec": {
   "display_name": "Python 3",
   "language": "python",
   "name": "python3"
  },
  "language_info": {
   "codemirror_mode": {
    "name": "ipython",
    "version": 2
   },
   "file_extension": ".py",
   "mimetype": "text/x-python",
   "name": "python",
   "nbconvert_exporter": "python",
   "pygments_lexer": "ipython2",
   "version": "2.7.6"
  }
 },
 "nbformat": 4,
 "nbformat_minor": 0
}